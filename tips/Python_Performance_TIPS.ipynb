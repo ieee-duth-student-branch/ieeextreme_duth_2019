{
  "nbformat": 4,
  "nbformat_minor": 0,
  "metadata": {
    "colab": {
      "name": "Python_Performance_TIPS.ipynb",
      "provenance": [],
      "collapsed_sections": []
    },
    "kernelspec": {
      "name": "python3",
      "display_name": "Python 3"
    }
  },
  "cells": [
    {
      "cell_type": "markdown",
      "metadata": {
        "id": "YfwRU0-6XkI7",
        "colab_type": "text"
      },
      "source": [
        "## 1. Use list comprehensions"
      ]
    },
    {
      "cell_type": "code",
      "metadata": {
        "id": "gLfgu4M9XjRl",
        "colab_type": "code",
        "outputId": "923d9008-526c-40de-9a8b-55b84ee08d90",
        "colab": {
          "base_uri": "https://localhost:8080/",
          "height": 34
        }
      },
      "source": [
        "squares = []\n",
        "for num in range(0, 10):\n",
        "    squares.append(num**2)\n",
        "squares"
      ],
      "execution_count": 0,
      "outputs": [
        {
          "output_type": "execute_result",
          "data": {
            "text/plain": [
              "[0, 1, 4, 9, 16, 25, 36, 49, 64, 81]"
            ]
          },
          "metadata": {
            "tags": []
          },
          "execution_count": 1
        }
      ]
    },
    {
      "cell_type": "code",
      "metadata": {
        "id": "0lAeh5smX5a4",
        "colab_type": "code",
        "outputId": "428e04eb-64ad-4e5d-dde8-94e48a14d317",
        "colab": {
          "base_uri": "https://localhost:8080/",
          "height": 34
        }
      },
      "source": [
        "squares = [num**2 for num in range(0, 10)]\n",
        "squares"
      ],
      "execution_count": 0,
      "outputs": [
        {
          "output_type": "execute_result",
          "data": {
            "text/plain": [
              "[0, 1, 4, 9, 16, 25, 36, 49, 64, 81]"
            ]
          },
          "metadata": {
            "tags": []
          },
          "execution_count": 3
        }
      ]
    },
    {
      "cell_type": "markdown",
      "metadata": {
        "id": "EsDdfzzJYZkt",
        "colab_type": "text"
      },
      "source": [
        "## 2. Use built-in functions\n",
        "<https://docs.python.org/3/library/functions.html>"
      ]
    },
    {
      "cell_type": "markdown",
      "metadata": {
        "id": "OiISdZ55ZBID",
        "colab_type": "text"
      },
      "source": [
        "## 3. Use \"in\" to check for membership"
      ]
    },
    {
      "cell_type": "code",
      "metadata": {
        "id": "kHoevY_4ZHaj",
        "colab_type": "code",
        "outputId": "2f438db0-bd1e-4eda-ba62-d01880a1abfc",
        "colab": {
          "base_uri": "https://localhost:8080/",
          "height": 35
        }
      },
      "source": [
        "names = ['Akis', 'Andreas', 'Kostas', 'Giannis']\n",
        "print('Andreas' in names)"
      ],
      "execution_count": 0,
      "outputs": [
        {
          "output_type": "stream",
          "text": [
            "True\n"
          ],
          "name": "stdout"
        }
      ]
    },
    {
      "cell_type": "markdown",
      "metadata": {
        "id": "BhrvPIE5ZWNS",
        "colab_type": "text"
      },
      "source": [
        "## 4. Load modules only when you need them!\n",
        "This reduces memory usage and loading time"
      ]
    },
    {
      "cell_type": "markdown",
      "metadata": {
        "id": "EntZjCLOZnQt",
        "colab_type": "text"
      },
      "source": [
        "## 5. Use multiple assignment\n"
      ]
    },
    {
      "cell_type": "code",
      "metadata": {
        "id": "g5xfRC6AZtN-",
        "colab_type": "code",
        "colab": {}
      },
      "source": [
        "x, y, z = 5, 10, 20\n",
        "x, y = y, x\n"
      ],
      "execution_count": 0,
      "outputs": []
    },
    {
      "cell_type": "markdown",
      "metadata": {
        "id": "Se0tubaEZ2hX",
        "colab_type": "text"
      },
      "source": [
        "#### VS"
      ]
    },
    {
      "cell_type": "code",
      "metadata": {
        "id": "Ze-235jJZzVX",
        "colab_type": "code",
        "colab": {}
      },
      "source": [
        "temp = x \n",
        "x = y\n",
        "y = temp"
      ],
      "execution_count": 0,
      "outputs": []
    },
    {
      "cell_type": "markdown",
      "metadata": {
        "id": "b5OWSUq_aWc1",
        "colab_type": "text"
      },
      "source": [
        "## 6. Exit early\n",
        "If possible, leave a function (or a set of conditions) as soon as you know "
      ]
    },
    {
      "cell_type": "code",
      "metadata": {
        "id": "AiccbiBOaYjt",
        "colab_type": "code",
        "colab": {}
      },
      "source": [
        "if positive_case:\n",
        "  if particular_example: \n",
        "    do_something\n",
        "else:\n",
        "  raise exception"
      ],
      "execution_count": 0,
      "outputs": []
    },
    {
      "cell_type": "code",
      "metadata": {
        "id": "ysHNbsnLbV0W",
        "colab_type": "code",
        "colab": {}
      },
      "source": [
        "if not positive_case:\n",
        "  raise exception\n",
        "if not particular_example:\n",
        "  raise exception\n",
        "do_something "
      ],
      "execution_count": 0,
      "outputs": []
    },
    {
      "cell_type": "markdown",
      "metadata": {
        "id": "ZFq7N04ubXzT",
        "colab_type": "text"
      },
      "source": [
        "## 7. Learn iterools!\n",
        "<https://realpython.com/python-itertools/>"
      ]
    },
    {
      "cell_type": "code",
      "metadata": {
        "id": "dx4XCReMbi-6",
        "colab_type": "code",
        "outputId": "47d36a07-cca4-4095-e0b0-4224bffd5b28",
        "colab": {
          "base_uri": "https://localhost:8080/",
          "height": 121
        }
      },
      "source": [
        "import itertools\n",
        "perms = itertools.permutations(['1', '3', '5'])\n",
        "list(perms)"
      ],
      "execution_count": 0,
      "outputs": [
        {
          "output_type": "execute_result",
          "data": {
            "text/plain": [
              "[('1', '3', '5'),\n",
              " ('1', '5', '3'),\n",
              " ('3', '1', '5'),\n",
              " ('3', '5', '1'),\n",
              " ('5', '1', '3'),\n",
              " ('5', '3', '1')]"
            ]
          },
          "metadata": {
            "tags": []
          },
          "execution_count": 9
        }
      ]
    },
    {
      "cell_type": "markdown",
      "metadata": {
        "id": "yWRlJmi9byjg",
        "colab_type": "text"
      },
      "source": [
        "## 8. Cache when possible\n"
      ]
    },
    {
      "cell_type": "code",
      "metadata": {
        "id": "H9YLyU0vb2N5",
        "colab_type": "code",
        "colab": {}
      },
      "source": [
        "def fibonacci(n):\n",
        "    if n == 0: # There is no 0'th number\n",
        "        return 0\n",
        "    elif n == 1: # We define the first number as 1\n",
        "        return 1\n",
        "    return fibonacci(n - 1) + fibonacci(n-2)"
      ],
      "execution_count": 0,
      "outputs": []
    },
    {
      "cell_type": "code",
      "metadata": {
        "id": "nwCBxl0wb2ob",
        "colab_type": "code",
        "colab": {}
      },
      "source": [
        "import functools\n",
        "\n",
        "@functools.lru_cache(maxsize=128)\n",
        "def fibonacci(n):\n",
        "    if n == 0:\n",
        "        return 0\n",
        "    elif n == 1:\n",
        "        return 1\n",
        "    return fibonacci(n - 1) + fibonacci(n-2)"
      ],
      "execution_count": 0,
      "outputs": []
    },
    {
      "cell_type": "markdown",
      "metadata": {
        "id": "UuvC0zX2cPNZ",
        "colab_type": "text"
      },
      "source": [
        "## 9. Sort with keys"
      ]
    },
    {
      "cell_type": "code",
      "metadata": {
        "id": "H-jhlEDncS6b",
        "colab_type": "code",
        "outputId": "c36dbfad-ff3f-471d-dbf6-bad2da4616a1",
        "colab": {
          "base_uri": "https://localhost:8080/",
          "height": 35
        }
      },
      "source": [
        "import operator\n",
        "my_list = [('John', 4), ('Alex', 2), ('Victor', 9), ('Peter', 6)]\n",
        "my_list.sort(key=operator.itemgetter(1))\n",
        "my_list"
      ],
      "execution_count": 0,
      "outputs": [
        {
          "output_type": "execute_result",
          "data": {
            "text/plain": [
              "[('Alex', 2), ('John', 4), ('Peter', 6), ('Victor', 9)]"
            ]
          },
          "metadata": {
            "tags": []
          },
          "execution_count": 13
        }
      ]
    },
    {
      "cell_type": "markdown",
      "metadata": {
        "id": "1tUxpzIXdOJ5",
        "colab_type": "text"
      },
      "source": [
        "## 10. Choose your data structure wisely\n",
        "dicts and sets use hash tables so have O(1) lookup performance\n",
        "\n",
        "\"... it is often a good idea to use sets or dictionaries instead of lists in cases where:\n",
        "\n",
        "    The collection will contain a large number of items\n",
        "    You will be repeatedly searching for items in the collection\n",
        "    You do not have duplicate items.\"\n",
        "    ~ The Hitchhiker's Guide to Python - <https://docs.python-guide.org/writing/style/>\n",
        "    "
      ]
    },
    {
      "cell_type": "markdown",
      "metadata": {
        "id": "OAEHQcOtdnf3",
        "colab_type": "text"
      },
      "source": [
        "## 11. \"if vatiable\" is faster than \"if variable == True\""
      ]
    },
    {
      "cell_type": "markdown",
      "metadata": {
        "id": "Cc8SDPV_d-8E",
        "colab_type": "text"
      },
      "source": [
        "## 12. Use \"join\" to concatenate strings"
      ]
    },
    {
      "cell_type": "code",
      "metadata": {
        "id": "PNva3RvrdyeY",
        "colab_type": "code",
        "colab": {}
      },
      "source": [
        "msg = 'hello'\n",
        "msg += 'there,'\n",
        "msg += 'general Kenobi'"
      ],
      "execution_count": 0,
      "outputs": []
    },
    {
      "cell_type": "code",
      "metadata": {
        "id": "tnAJKBa3eHIm",
        "colab_type": "code",
        "outputId": "92287786-6ac1-4f09-b10a-af01a987fb9e",
        "colab": {
          "base_uri": "https://localhost:8080/",
          "height": 34
        }
      },
      "source": [
        "msg = ['hello', 'there,', 'general Kenobi']\n",
        "' '.join(msg)"
      ],
      "execution_count": 0,
      "outputs": [
        {
          "output_type": "execute_result",
          "data": {
            "text/plain": [
              "'hello there general Kenobi'"
            ]
          },
          "metadata": {
            "tags": []
          },
          "execution_count": 18
        }
      ]
    },
    {
      "cell_type": "markdown",
      "metadata": {
        "id": "R4xszZHweX9K",
        "colab_type": "text"
      },
      "source": [
        "## 13. When possible, move calculations outside the loop"
      ]
    },
    {
      "cell_type": "markdown",
      "metadata": {
        "id": "gyqZQaEMfZ7I",
        "colab_type": "text"
      },
      "source": [
        "## 14. Calculate the memory being used by an object"
      ]
    },
    {
      "cell_type": "code",
      "metadata": {
        "id": "Kt5umQ-Eff7Q",
        "colab_type": "code",
        "outputId": "61a163f3-5097-49f0-ac85-cd8b1684eaef",
        "colab": {
          "base_uri": "https://localhost:8080/",
          "height": 54
        }
      },
      "source": [
        "import sys\n",
        "\n",
        "list1 = ['Xanthi', 'Kavala', 'Drama', 'Serres', 'Thessaloniki']\n",
        "print(\"size of list = \",sys.getsizeof(list1)) # returns the size of an object in bytes\n",
        "\n",
        "name = 'memory'\n",
        "print(\"size of name = \",sys.getsizeof(name))"
      ],
      "execution_count": 0,
      "outputs": [
        {
          "output_type": "stream",
          "text": [
            "size of list =  104\n",
            "size of name =  55\n"
          ],
          "name": "stdout"
        }
      ]
    },
    {
      "cell_type": "markdown",
      "metadata": {
        "id": "Go7iLmkTf0K6",
        "colab_type": "text"
      },
      "source": [
        "## 15. Sets are practical"
      ]
    },
    {
      "cell_type": "code",
      "metadata": {
        "id": "keLyDIP7f3H0",
        "colab_type": "code",
        "outputId": "0baf66f7-2472-40f4-df3d-cd9ac8eb8d39",
        "colab": {
          "base_uri": "https://localhost:8080/",
          "height": 54
        }
      },
      "source": [
        "numbers = [5, 10, 10, 20, 20, 20, 30]\n",
        "print(numbers)\n",
        "\n",
        "numbers = list(set(numbers))\n",
        "print(numbers)"
      ],
      "execution_count": 0,
      "outputs": [
        {
          "output_type": "stream",
          "text": [
            "[5, 10, 10, 20, 20, 20, 30]\n",
            "[10, 20, 5, 30]\n"
          ],
          "name": "stdout"
        }
      ]
    },
    {
      "cell_type": "markdown",
      "metadata": {
        "id": "sqJQ7yVNgL2i",
        "colab_type": "text"
      },
      "source": [
        "## 16. Use enumerate"
      ]
    },
    {
      "cell_type": "code",
      "metadata": {
        "id": "HpDbBb7BgQLa",
        "colab_type": "code",
        "outputId": "8a3602bf-b748-4984-b2b0-0c117fd69986",
        "colab": {
          "base_uri": "https://localhost:8080/",
          "height": 72
        }
      },
      "source": [
        "movies = ['The Dark Knight', 'Ironman', 'The Empire Strikes back']\n",
        "for index, elem in enumerate(movies, 1):\n",
        "    print('{}. {}'.format(index, elem))"
      ],
      "execution_count": 0,
      "outputs": [
        {
          "output_type": "stream",
          "text": [
            "1. The Dark Knight\n",
            "2. Ironman\n",
            "3. The Empire Strikes back\n"
          ],
          "name": "stdout"
        }
      ]
    },
    {
      "cell_type": "markdown",
      "metadata": {
        "id": "wAnNigRKiAP7",
        "colab_type": "text"
      },
      "source": [
        "## 17. Avoid re-sorting a list -> Use bisect"
      ]
    },
    {
      "cell_type": "code",
      "metadata": {
        "id": "e5PEGFvqhvk9",
        "colab_type": "code",
        "outputId": "0b8ccc68-42d7-46c1-e1c1-16cfbf29d4ae",
        "colab": {
          "base_uri": "https://localhost:8080/",
          "height": 54
        }
      },
      "source": [
        "import bisect\n",
        "\n",
        "nums = [6,13,4,7]\n",
        "nums.sort()\n",
        "print(nums)\n",
        "bisect.insort(nums, 2)\n",
        "nums\n",
        "bisect.insort(nums, 11)\n",
        "nums"
      ],
      "execution_count": 0,
      "outputs": [
        {
          "output_type": "stream",
          "text": [
            "[4, 6, 7, 13]\n"
          ],
          "name": "stdout"
        },
        {
          "output_type": "execute_result",
          "data": {
            "text/plain": [
              "[2, 4, 6, 7, 11, 13]"
            ]
          },
          "metadata": {
            "tags": []
          },
          "execution_count": 18
        }
      ]
    },
    {
      "cell_type": "markdown",
      "metadata": {
        "id": "rUbS7-cbiW-c",
        "colab_type": "text"
      },
      "source": [
        "## 18. Use dict and set to test membership"
      ]
    },
    {
      "cell_type": "code",
      "metadata": {
        "id": "tP3RvzXgiasZ",
        "colab_type": "code",
        "outputId": "0d3ab4cf-23c7-4c5d-8592-c9410aa6897c",
        "colab": {
          "base_uri": "https://localhost:8080/",
          "height": 34
        }
      },
      "source": [
        "my_list = ['a', 'b', 'c'] #Slower, check membership with list:\n",
        "'c' in my_list"
      ],
      "execution_count": 0,
      "outputs": [
        {
          "output_type": "execute_result",
          "data": {
            "text/plain": [
              "True"
            ]
          },
          "metadata": {
            "tags": []
          },
          "execution_count": 37
        }
      ]
    },
    {
      "cell_type": "code",
      "metadata": {
        "id": "fJVO3Yfeihua",
        "colab_type": "code",
        "outputId": "2ea4bf94-639a-47ea-e6b9-11f93c42ff0c",
        "colab": {
          "base_uri": "https://localhost:8080/",
          "height": 34
        }
      },
      "source": [
        "my_set = set(['a', 'b', 'c'])\n",
        "'c' in my_set"
      ],
      "execution_count": 0,
      "outputs": [
        {
          "output_type": "execute_result",
          "data": {
            "text/plain": [
              "True"
            ]
          },
          "metadata": {
            "tags": []
          },
          "execution_count": 38
        }
      ]
    },
    {
      "cell_type": "markdown",
      "metadata": {
        "id": "8_rGR3YSjzWu",
        "colab_type": "text"
      },
      "source": [
        "## 19. Numpy is your best friend!\n",
        "Many Numpy operations are implemented in C, avoiding the general cost of loops in Python  \n",
        "<https://webcourses.ucf.edu/courses/1249560/pages/python-lists-vs-numpy-arrays-what-is-the-difference>  \n",
        "<https://towardsdatascience.com/one-simple-trick-for-speeding-up-your-python-code-with-numpy-1afc846db418>\n"
      ]
    },
    {
      "cell_type": "code",
      "metadata": {
        "id": "7_rpWhilj4hs",
        "colab_type": "code",
        "outputId": "a0b7afbc-202c-429b-f1cc-98337f2164f9",
        "colab": {
          "base_uri": "https://localhost:8080/",
          "height": 35
        }
      },
      "source": [
        "from numpy import gcd\n",
        "gcd(10,20) # great common divisor"
      ],
      "execution_count": 0,
      "outputs": [
        {
          "output_type": "execute_result",
          "data": {
            "text/plain": [
              "10"
            ]
          },
          "metadata": {
            "tags": []
          },
          "execution_count": 19
        }
      ]
    },
    {
      "cell_type": "markdown",
      "metadata": {
        "id": "LOTgpCT-jbq6",
        "colab_type": "text"
      },
      "source": [
        "[Resources]  \n",
        "<https://stackify.com/20-simple-python-performance-tuning-tips/>  \n",
        "<https://www.monitis.com/blog/python-performance-tips-part-1/>  \n",
        "<https://pynative.com/useful-python-tips-and-tricks-every-programmer-should-know/>  "
      ]
    }
  ]
}