{
  "nbformat": 4,
  "nbformat_minor": 0,
  "metadata": {
    "colab": {
      "name": "Decorators_Memoization.ipynb",
      "version": "0.3.2",
      "provenance": [],
      "collapsed_sections": []
    },
    "kernelspec": {
      "name": "python3",
      "display_name": "Python 3"
    }
  },
  "cells": [
    {
      "cell_type": "markdown",
      "metadata": {
        "id": "f7o9Pq4Q6y5z",
        "colab_type": "text"
      },
      "source": [
        "### Function are First-Class Citizens"
      ]
    },
    {
      "cell_type": "markdown",
      "metadata": {
        "id": "k7N9Xy3N03QM",
        "colab_type": "text"
      },
      "source": [
        "Οι συναρτήσεις στην Python είναι first-class citizens. Δηλαδή υποστηρίζουν όλες τις ιδιότητες ενός __First-Class Object__:\n",
        "\n",
        "- Αποτελούν στιγμιότυπα (instances) μιας κλάσης αντικειμένου\n",
        "- Αποθηκεύονται ως μεταβλητές\n",
        "- Δίνονται ως ορίσματα (arguments) σε κάποιες άλλες συναρτήσεις\n",
        "- Επιστρέφουν συναρτήσεις (συναρτήσεις που φτιάχουν συναρτήσεις!!!)\n",
        "- Μπορούν να αποκευτούν σε λίστες, σύνολα ή κάποια άλλη δομή δεδομένων"
      ]
    },
    {
      "cell_type": "code",
      "metadata": {
        "id": "d64j6ZA83pHh",
        "colab_type": "code",
        "colab": {}
      },
      "source": [
        "def cube(x):\n",
        "    return x*x*x\n",
        "\n",
        "res = cube(5) # Αποθηκεύει το αποτέλεσμα στη μεταβλητή res.\n",
        "print(res)\n",
        "my_cube = cube # Αποθηκεύει τη συνάρτηση (ΟΧΙ το αποτέλεσμα). Η συνάρτηση δε καλείται! \n",
        "print(my_cube)\n",
        "my_res = my_cube(5)\n",
        "print(my_res)"
      ],
      "execution_count": 0,
      "outputs": []
    },
    {
      "cell_type": "markdown",
      "metadata": {
        "id": "0c5X4kjc646X",
        "colab_type": "text"
      },
      "source": [
        "### \\*args & \\*\\*kwargs\n",
        "Η Python μας επιτρέπει να ορίσουμε συναρτήσεις που δέχονται μεταβλητό αριθμό positional __(\\*args)__ ή keyword __(\\*\\*kwargs)__ ορισμάτων."
      ]
    },
    {
      "cell_type": "code",
      "metadata": {
        "id": "EkhU2gP85OD1",
        "colab_type": "code",
        "colab": {}
      },
      "source": [
        "def print_everything(*args, **kwargs):\n",
        "    for arg in args:\n",
        "        print(arg)\n",
        "    for k, v in kwargs.items():\n",
        "        print(\"{}={}\".format(k,v))"
      ],
      "execution_count": 0,
      "outputs": []
    },
    {
      "cell_type": "code",
      "metadata": {
        "id": "ObVVGIUw5bes",
        "colab_type": "code",
        "colab": {}
      },
      "source": [
        "# Καλώ τη συνάρτηση print_everything με αυθαίρετο αριθμό ορισμάτων!\n",
        "print_everything('ieeextreme', 'competition', sb_name='IEEE SB of Thrace')"
      ],
      "execution_count": 0,
      "outputs": []
    },
    {
      "cell_type": "markdown",
      "metadata": {
        "id": "1zD-zEa3xwJd",
        "colab_type": "text"
      },
      "source": [
        "## Decorators\n",
        "#### Συναρτήσεις που φτιάχουν συναρτήσεις\n",
        "\n",
        "Ουσιαστικά, ένας function decorator δέχεται ως όρισμα μία συνάρτηση, της προσθέτει κάποια λειτουργία, και επιστρέφει την τροποποιημένη (πλέον) συνάρτηση.\n",
        "Συνηθίζεται εντός του decorator να ορίζεται μία νέα συνάρτηση η οποία \"τυλίγει\", ή όπως λέμε, κάνει wrap την συνάρτηση που θέλουμε να τροποποιήσουμε, και ΑΥΤΗ επιστρέφεται από τον decorator."
      ]
    },
    {
      "cell_type": "code",
      "metadata": {
        "id": "Im4bf8n0xYZ-",
        "colab_type": "code",
        "colab": {}
      },
      "source": [
        "def hello(wrapped_function): # decorator hello\n",
        "    def wrapper(*args, **kwargs):\n",
        "        print('Hello, this is the wrapper function!')\n",
        "        print('This decorator decorates the function {}'.format(wrapped_function.__name__))\n",
        "        result = wrapped_function(*args, **kwargs)\n",
        "        return result\n",
        "    return wrapper"
      ],
      "execution_count": 0,
      "outputs": []
    },
    {
      "cell_type": "code",
      "metadata": {
        "id": "AhpGEp8xBQd7",
        "colab_type": "code",
        "colab": {}
      },
      "source": [
        "def add_function(a, b):\n",
        "    return a+b\n",
        "\n",
        "\n",
        "result_1 = add_function(10, 20)\n",
        "print('Result without decorator:', result_1, '\\n')\n",
        "add = hello(add_function) # Η μεταβλητή add περιέχει μία συνάρτηση (χωρίς αυτή να καλείται). \n",
        "add(10, 20)"
      ],
      "execution_count": 0,
      "outputs": []
    },
    {
      "cell_type": "markdown",
      "metadata": {
        "id": "7H8O_B_u9B0U",
        "colab_type": "text"
      },
      "source": [
        "H Python μας παρέχει ένα ευκολότερο τρόπο για την εφαρμογή του decorator σε μία συνάρτηση. \n",
        "#### Απλά χρησιμοποιούμε το σύμβολο @ πριν την συνάρτηση."
      ]
    },
    {
      "cell_type": "code",
      "metadata": {
        "id": "EwdwmvY6xZGq",
        "colab_type": "code",
        "colab": {}
      },
      "source": [
        "@hello\n",
        "def add_function(a,b):\n",
        "    return a+b\n",
        "\n",
        "add_function(10, 20)"
      ],
      "execution_count": 0,
      "outputs": []
    },
    {
      "cell_type": "markdown",
      "metadata": {
        "id": "a4mu8RbZEDnE",
        "colab_type": "text"
      },
      "source": [
        "Ένα συχνό παράδειγμα που χρησιμοποιείται για την παρουσίαση του __decorator pattern__ είναι η λειτουργία χρονομέτρησης της εκτελεσης μιας συνάρτησης!"
      ]
    },
    {
      "cell_type": "code",
      "metadata": {
        "id": "g7-ql8XcEYkW",
        "colab_type": "code",
        "colab": {}
      },
      "source": [
        "import time\n",
        "\n",
        "def timeit(wrapped_func):\n",
        "    def wrapper(*args, **kwargs):\n",
        "        print(\"This decorator times the execution of the function {}\".format(wrapped_func.__name__))\n",
        "        begin = time.time()        \n",
        "        result = wrapped_func(*args, **kwargs)\n",
        "        end = time.time()\n",
        "        print(\"Execution time: {} second\".format(end - begin))\n",
        "        return result\n",
        "    return wrapper"
      ],
      "execution_count": 0,
      "outputs": []
    },
    {
      "cell_type": "code",
      "metadata": {
        "id": "2PLY5jz9Ez2k",
        "colab_type": "code",
        "colab": {}
      },
      "source": [
        "@timeit\n",
        "def create_huge_list(upper_limit):\n",
        "    return [i for i in range(upper_limit)]\n",
        "\n",
        "create_huge_list(10000000)\n",
        "print(\"\")"
      ],
      "execution_count": 0,
      "outputs": []
    },
    {
      "cell_type": "markdown",
      "metadata": {
        "id": "xJoViPOtG4pV",
        "colab_type": "text"
      },
      "source": [
        "Μπορούμε να χρησιμοποιήσουμε τον ίδιο decorator σε μία άλλη συνάρτηση (__Code reuse!!!__)  \n",
        "Επιπλέον, μπορούμε να χρησιμοποιήσουμε περισσότερους από έναν decorator σε μία συνάρτηση!"
      ]
    },
    {
      "cell_type": "code",
      "metadata": {
        "id": "yTaEGYahGIgf",
        "colab_type": "code",
        "colab": {}
      },
      "source": [
        "@hello\n",
        "@timeit\n",
        "def add_function(a, b):\n",
        "    return(a+b)\n",
        "\n",
        "add_function(10,20)"
      ],
      "execution_count": 0,
      "outputs": []
    },
    {
      "cell_type": "markdown",
      "metadata": {
        "id": "bhgNowr2E56g",
        "colab_type": "text"
      },
      "source": [
        "## Memoization\n",
        "### A powerful technique for increasing the efficiency of recursive functions that repeat computation.\n",
        "\n",
        "\n",
        "\n",
        "Στο παρακάτω παράδειγμα, χρησιμοποιείται ο αναδρομικός τρόπος υπολογισμού των αριθμών Fibonacci (0, 1, 1, 2, 3, 5, 8, 13, ...). \n",
        "\n",
        "Στο πιο κάτω διάγραμμα, φαίνεται πως για να υπολογίσουμε τον 6ο αριθμό Fibonacci, κάποιοι αριθμοί υπολογίζονται πολλές φορές. "
      ]
    },
    {
      "cell_type": "code",
      "metadata": {
        "id": "B1WReoEfCtkp",
        "colab_type": "code",
        "colab": {}
      },
      "source": [
        "def fib(n):\n",
        "    '''Recursive implementation of Fibonacci numbers\n",
        "    0 1 1 2 3 5 8 13 ...'''    \n",
        "    if n == 1:\n",
        "        return 0\n",
        "    if n == 2:\n",
        "        return 1\n",
        "    return fib(n-2) + fib(n-1)"
      ],
      "execution_count": 0,
      "outputs": []
    },
    {
      "cell_type": "markdown",
      "metadata": {
        "id": "w7zVKJBtMtrC",
        "colab_type": "text"
      },
      "source": [
        "![Google's logo](https://composingprograms.com/img/fib.png)"
      ]
    },
    {
      "cell_type": "code",
      "metadata": {
        "id": "azZVa-4MC3ML",
        "colab_type": "code",
        "colab": {}
      },
      "source": [
        "# Ο υπολογισμός του 40ου αριθμού με τον αναδρομικό τρόπο, διαρκεί αρκετά δευτερόλεπτα.\n",
        "result = fib(40)\n"
      ],
      "execution_count": 0,
      "outputs": []
    },
    {
      "cell_type": "code",
      "metadata": {
        "id": "G_stTVv7DOG_",
        "colab_type": "code",
        "colab": {}
      },
      "source": [
        "def fib_iter(n):\n",
        "    '''Iterative implementation of Fibonacci numbers'''\n",
        "    prev, curr = 1, 0 # # curr is the first Fibonacci number.\n",
        "    for _ in range(n-1):\n",
        "        prev, curr = curr, prev + curr\n",
        "    return curr"
      ],
      "execution_count": 0,
      "outputs": []
    },
    {
      "cell_type": "code",
      "metadata": {
        "id": "uhyYuRTUEMFk",
        "colab_type": "code",
        "colab": {}
      },
      "source": [
        "result = fib_iter(40)\n",
        "print(result)"
      ],
      "execution_count": 0,
      "outputs": []
    },
    {
      "cell_type": "markdown",
      "metadata": {
        "id": "F4B-2epvQDIa",
        "colab_type": "text"
      },
      "source": [
        "Με την τεχνική του memoization μπορούμε να αποθηκεύουμε τους αριθμούς που έχουν ήδη υπολογιστεί και να αποφύγουμε τους περιττούς υπολογισμούς.\n",
        "Ορίζουμε έναν function decorator memo, και ένα dictionary cache. Όταν ένας αριθμός Fibonacci έχει ήδη υπολογιστεί και βρίσκεται στην cache, η τιμή του λαμβάνεται αμέσως. Διαφορετικά, ο αριθμός υπολογίζεται και εισάγεται στην cache για μετέπειτα χρήση. "
      ]
    },
    {
      "cell_type": "code",
      "metadata": {
        "id": "CfdJKuW1EUy2",
        "colab_type": "code",
        "colab": {}
      },
      "source": [
        "def memo(f):\n",
        "    '''Return a memoized version of single-argument function f.'''\n",
        "    cache = {}\n",
        "    def memoized(n):\n",
        "        if n not in cache:\n",
        "            cache[n] = f(n)\n",
        "        return cache[n]    \n",
        "    return memoized"
      ],
      "execution_count": 0,
      "outputs": []
    },
    {
      "cell_type": "code",
      "metadata": {
        "id": "HdzkVTzdFWZL",
        "colab_type": "code",
        "colab": {}
      },
      "source": [
        "@memo\n",
        "def fib_mem(n):\n",
        "    if n == 1:\n",
        "        return 0\n",
        "    if n == 2:\n",
        "        return 1\n",
        "    return fib_mem(n-2) + fib_mem(n-1)"
      ],
      "execution_count": 0,
      "outputs": []
    },
    {
      "cell_type": "code",
      "metadata": {
        "id": "ZaGNwh1yFc-E",
        "colab_type": "code",
        "colab": {}
      },
      "source": [
        "fib_mem(40)"
      ],
      "execution_count": 0,
      "outputs": []
    },
    {
      "cell_type": "markdown",
      "metadata": {
        "id": "VCx0JNJEVgvJ",
        "colab_type": "text"
      },
      "source": [
        "Μπορούμε να δούμε το περιεχόμενο του dictionary __cache__ του decorator memo, μέσω της __\\_\\_closure\\_\\___.   \n",
        "Επειδή η cache είναι η πρώτη τοπική μεταβλητή, βρίσκεται στο κελί 0. "
      ]
    },
    {
      "cell_type": "code",
      "metadata": {
        "id": "J5C37P1aVSLV",
        "colab_type": "code",
        "colab": {}
      },
      "source": [
        "fib_mem.__closure__[0].cell_contents"
      ],
      "execution_count": 0,
      "outputs": []
    },
    {
      "cell_type": "code",
      "metadata": {
        "id": "enFsDzqhTgf1",
        "colab_type": "code",
        "colab": {}
      },
      "source": [
        "def factorial(n):\n",
        "    if n == 0 or n == 1:\n",
        "        return 1\n",
        "    else:\n",
        "        return n*factorial(n-1)"
      ],
      "execution_count": 0,
      "outputs": []
    },
    {
      "cell_type": "code",
      "metadata": {
        "id": "Vx882rmiToDw",
        "colab_type": "code",
        "colab": {}
      },
      "source": [
        "factorial(100)"
      ],
      "execution_count": 0,
      "outputs": []
    },
    {
      "cell_type": "code",
      "metadata": {
        "id": "351T7VZXTo6I",
        "colab_type": "code",
        "colab": {}
      },
      "source": [
        "@memo\n",
        "def factorial_mem(n):\n",
        "    if n == 0 or n == 1:\n",
        "        return 1\n",
        "    else:\n",
        "        return n*factorial_mem(n-1)"
      ],
      "execution_count": 0,
      "outputs": []
    },
    {
      "cell_type": "code",
      "metadata": {
        "id": "ao1ffdUATvn1",
        "colab_type": "code",
        "colab": {}
      },
      "source": [
        "factorial(100)"
      ],
      "execution_count": 0,
      "outputs": []
    }
  ]
}