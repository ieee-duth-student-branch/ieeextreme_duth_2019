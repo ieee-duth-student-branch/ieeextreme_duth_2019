{
  "nbformat": 4,
  "nbformat_minor": 0,
  "metadata": {
    "colab": {
      "name": "sorting_with_key.ipynb",
      "version": "0.3.2",
      "provenance": [],
      "collapsed_sections": []
    },
    "kernelspec": {
      "name": "python3",
      "display_name": "Python 3"
    }
  },
  "cells": [
    {
      "cell_type": "code",
      "metadata": {
        "id": "gzUrN67KE69M",
        "colab_type": "code",
        "outputId": "26856084-3ea0-4497-f174-adca5752b958",
        "colab": {
          "base_uri": "https://localhost:8080/",
          "height": 34
        }
      },
      "source": [
        "import random\n",
        "\n",
        "data = []\n",
        "for i in range(10):\n",
        "    x = random.randint(0, 10)\n",
        "    y = random.randint(0, 10)\n",
        "    data.append((x, y))\n",
        "print(data)"
      ],
      "execution_count": 0,
      "outputs": [
        {
          "output_type": "stream",
          "text": [
            "[(7, 7), (5, 6), (3, 10), (3, 9), (9, 4), (4, 0), (6, 6), (4, 6), (6, 9), (0, 0)]\n"
          ],
          "name": "stdout"
        }
      ]
    },
    {
      "cell_type": "markdown",
      "metadata": {
        "id": "oIkOsdqRoTLn",
        "colab_type": "text"
      },
      "source": [
        "H μεταβλητή data περιέχει μία λίστα με tuples.   \n",
        "Έστω ότι εμείς θέλουμε να ταξινομήσουμε (sort) την data, ως προς το δεύτερο στοιχείο κάθε tuple.   \n",
        "Ένας τρόπος για να το κάνουμε αυτό είναι να χρησιμοποιήσουμε την συνάρτηση itemgetter που βρίσκεται στο module operator."
      ]
    },
    {
      "cell_type": "code",
      "metadata": {
        "id": "4CcIqKWqpGPS",
        "colab_type": "code",
        "colab": {}
      },
      "source": [
        "# Κάνουμε import την συνάρτηση itemgetter\n",
        "from operator import itemgetter"
      ],
      "execution_count": 0,
      "outputs": []
    },
    {
      "cell_type": "code",
      "metadata": {
        "id": "AbjNyaZpFq70",
        "colab_type": "code",
        "outputId": "ea2844f8-2a8c-40e6-b25b-68873df1b3d7",
        "colab": {
          "base_uri": "https://localhost:8080/",
          "height": 34
        }
      },
      "source": [
        "sorted_data = sorted(data, key=itemgetter(1), reverse=True)\n",
        "print(sorted_data)"
      ],
      "execution_count": 0,
      "outputs": [
        {
          "output_type": "stream",
          "text": [
            "[(3, 10), (3, 9), (6, 9), (7, 7), (5, 6), (6, 6), (4, 6), (9, 4), (4, 0), (0, 0)]\n"
          ],
          "name": "stdout"
        }
      ]
    },
    {
      "cell_type": "markdown",
      "metadata": {
        "id": "qrXaessVpQ8v",
        "colab_type": "text"
      },
      "source": [
        "Γράφοντας itemgetter(1), η συνάρτηση παίρνει το δεύτερο στοιχείο κάθε tuple.\n",
        "Και με reverse=True η ταξινόμηση ξεκινάει από το μεγαλύτερο προς το μικρότερο. \n",
        "\n",
        "Ενας άλλος τρόπος για να πάρουμε το ίδιο αποτέλεσμα, είναι να χρησιμοποιήσουμε ως key μία δική μας συνάρτηση. Εδώ, κατασκευάζουμε μία lambda function.\n",
        "\n",
        "Η συνάρτηση lambda ορίζουμε να παίρνει ένα argument x (στη δική μας περίπτωση, γνωρίζουμε πως πρόκειται για ένα tuple με δύο στοιχεία), και να επιστρέφει το δεύτερο στοιχείο του. "
      ]
    },
    {
      "cell_type": "code",
      "metadata": {
        "id": "qbMyP7HuF4FF",
        "colab_type": "code",
        "outputId": "3ff4645e-1a15-446e-d693-4d498bb04609",
        "colab": {
          "base_uri": "https://localhost:8080/",
          "height": 34
        }
      },
      "source": [
        "sorted_data = sorted(data, key=lambda x: x[1], reverse=True)\n",
        "print(sorted_data)"
      ],
      "execution_count": 0,
      "outputs": [
        {
          "output_type": "stream",
          "text": [
            "[(3, 10), (3, 9), (6, 9), (7, 7), (5, 6), (6, 6), (4, 6), (9, 4), (4, 0), (0, 0)]\n"
          ],
          "name": "stdout"
        }
      ]
    },
    {
      "cell_type": "markdown",
      "metadata": {
        "id": "qJtBxPz7qsy0",
        "colab_type": "text"
      },
      "source": [
        "Μπορούμε, φυσικά,  να ορίσουμε μία συνάρτηση (εδώ my_key) και να χρησιμοποιήσουμε αυτή τη συνάρτηση ως key. Η διαφορά με την lambda που είδαμε προηγουμένως, είναι ότι την lambda την χρησιμοποιούμε τη στιγμή που την ορίζουμε και επειδή δεν έχει όνομα, δε μπορούμε να την ξανακαλέσουμε αργότερα."
      ]
    },
    {
      "cell_type": "code",
      "metadata": {
        "id": "LrmkS1IOqfV0",
        "colab_type": "code",
        "outputId": "370026eb-40ab-4efe-e7c3-85ca3fb2d090",
        "colab": {
          "base_uri": "https://localhost:8080/",
          "height": 34
        }
      },
      "source": [
        "def my_key(x):\n",
        "    return x[1]\n",
        "\n",
        "sorted_data = sorted(data, key=my_key, reverse=True)\n",
        "print(sorted_data)"
      ],
      "execution_count": 0,
      "outputs": [
        {
          "output_type": "stream",
          "text": [
            "[(3, 10), (3, 9), (6, 9), (7, 7), (5, 6), (6, 6), (4, 6), (9, 4), (4, 0), (0, 0)]\n"
          ],
          "name": "stdout"
        }
      ]
    },
    {
      "cell_type": "markdown",
      "metadata": {
        "id": "7n29G0SvrDzJ",
        "colab_type": "text"
      },
      "source": [
        "Επιπλέον, μπορούμε να χρησιμοποιήσουμε δύο κλειδιά για την ταξινόμηση. Εδώ, αρχικά κάνουμε sort με βάση το δευτερο στοιχείο του tuple, και για τα tuples που το δεύτερο στοιχείο είναι ίδιο, ταξινομούμε με βάση το πρώτο στοιχείο. "
      ]
    },
    {
      "cell_type": "code",
      "metadata": {
        "id": "-16bEtOiqHh-",
        "colab_type": "code",
        "outputId": "b3fedf7f-44d2-4f01-e87c-857c495a40af",
        "colab": {
          "base_uri": "https://localhost:8080/",
          "height": 34
        }
      },
      "source": [
        "sorted_data = sorted(data, key=lambda x: (x[1], x[0]), reverse=True)\n",
        "print(sorted_data)"
      ],
      "execution_count": 0,
      "outputs": [
        {
          "output_type": "stream",
          "text": [
            "[(3, 10), (6, 9), (3, 9), (7, 7), (6, 6), (5, 6), (4, 6), (9, 4), (4, 0), (0, 0)]\n"
          ],
          "name": "stdout"
        }
      ]
    },
    {
      "cell_type": "markdown",
      "metadata": {
        "id": "WmOkKWbHrW_I",
        "colab_type": "text"
      },
      "source": [
        "Τέλος, με την ίδια λογική, μπορούμε να κατασκευάσουμε αυθαίρετα κλειδιά για την ταξινόμηση. Παρακάτω, η ταξινόμηση πραγματοποιείται ως προς το άθροισμα και το γινόμενο του tuple."
      ]
    },
    {
      "cell_type": "code",
      "metadata": {
        "id": "s4dcnjTHVP3Z",
        "colab_type": "code",
        "outputId": "e0cbcb0c-d2fe-44a1-ca43-f6b506b6e052",
        "colab": {
          "base_uri": "https://localhost:8080/",
          "height": 34
        }
      },
      "source": [
        "sorted_data = sorted(data, key=lambda x: x[1]+x[0], reverse=True)\n",
        "print(sorted_data)"
      ],
      "execution_count": 0,
      "outputs": [
        {
          "output_type": "stream",
          "text": [
            "[(6, 9), (7, 7), (3, 10), (9, 4), (3, 9), (6, 6), (5, 6), (4, 6), (4, 0), (0, 0)]\n"
          ],
          "name": "stdout"
        }
      ]
    },
    {
      "cell_type": "code",
      "metadata": {
        "id": "zIodIYFdVUy4",
        "colab_type": "code",
        "outputId": "d18be93d-f3e9-48af-84d9-f20d8d3710ed",
        "colab": {
          "base_uri": "https://localhost:8080/",
          "height": 34
        }
      },
      "source": [
        "sorted_data = sorted(data, key=lambda x: x[1]*x[0], reverse=True)\n",
        "print(sorted_data)"
      ],
      "execution_count": 0,
      "outputs": [
        {
          "output_type": "stream",
          "text": [
            "[(6, 9), (7, 7), (9, 4), (6, 6), (5, 6), (3, 10), (3, 9), (4, 6), (4, 0), (0, 0)]\n"
          ],
          "name": "stdout"
        }
      ]
    }
  ]
}